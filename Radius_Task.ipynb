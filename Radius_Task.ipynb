{
  "nbformat": 4,
  "nbformat_minor": 0,
  "metadata": {
    "colab": {
      "name": "Radius Task",
      "provenance": [],
      "collapsed_sections": []
    },
    "kernelspec": {
      "name": "python3",
      "display_name": "Python 3"
    }
  },
  "cells": [
    {
      "cell_type": "markdown",
      "metadata": {
        "id": "m4_aU00Xd6_-",
        "colab_type": "text"
      },
      "source": [
        "Install dependencies"
      ]
    },
    {
      "cell_type": "markdown",
      "metadata": {
        "id": "fA1IXNgCzcvP",
        "colab_type": "text"
      },
      "source": [
        "geopy python API fetches latitude and longitude of a given place. Here I have used US city names for generating dataset from the uploaded .txt file"
      ]
    },
    {
      "cell_type": "code",
      "metadata": {
        "id": "N7E1wtZvtqwc",
        "colab_type": "code",
        "colab": {}
      },
      "source": [
        "!pip install geopy"
      ],
      "execution_count": 0,
      "outputs": []
    },
    {
      "cell_type": "markdown",
      "metadata": {
        "id": "7Hjc0Nlv0GKd",
        "colab_type": "text"
      },
      "source": [
        "The modin pandas is faster compared to pandas. It parallizes dataframe/table computation on the 4 cores of laptop. For mode details on modin: https://pypi.org/project/modin/\n"
      ]
    },
    {
      "cell_type": "code",
      "metadata": {
        "id": "w-IbQrJJxaSg",
        "colab_type": "code",
        "colab": {}
      },
      "source": [
        "# The faster pandas\n",
        "!pip install modin[all]"
      ],
      "execution_count": 0,
      "outputs": []
    },
    {
      "cell_type": "markdown",
      "metadata": {
        "id": "vnh0Uva_W-hb",
        "colab_type": "text"
      },
      "source": [
        "# Dataset Creation"
      ]
    },
    {
      "cell_type": "markdown",
      "metadata": {
        "id": "XYtgwkrJ0hlE",
        "colab_type": "text"
      },
      "source": [
        "Upload the text file containing ciy names"
      ]
    },
    {
      "cell_type": "code",
      "metadata": {
        "id": "I5YrrC15fUhI",
        "colab_type": "code",
        "colab": {
          "resources": {
            "http://localhost:8080/nbextensions/google.colab/files.js": {
              "data": "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",
              "ok": true,
              "headers": [
                [
                  "content-type",
                  "application/javascript"
                ]
              ],
              "status": 200,
              "status_text": ""
            }
          },
          "base_uri": "https://localhost:8080/",
          "height": 74
        },
        "outputId": "0954e267-645a-40eb-f9c0-72331d893844"
      },
      "source": [
        "from google.colab import files\n",
        "uploaded = files.upload()"
      ],
      "execution_count": 24,
      "outputs": [
        {
          "output_type": "display_data",
          "data": {
            "text/html": [
              "\n",
              "     <input type=\"file\" id=\"files-fadc690d-b04e-41ad-88e1-a006b3e8d4c9\" name=\"files[]\" multiple disabled />\n",
              "     <output id=\"result-fadc690d-b04e-41ad-88e1-a006b3e8d4c9\">\n",
              "      Upload widget is only available when the cell has been executed in the\n",
              "      current browser session. Please rerun this cell to enable.\n",
              "      </output>\n",
              "      <script src=\"/nbextensions/google.colab/files.js\"></script> "
            ],
            "text/plain": [
              "<IPython.core.display.HTML object>"
            ]
          },
          "metadata": {
            "tags": []
          }
        },
        {
          "output_type": "stream",
          "text": [
            "Saving Street_Names.csv to Street_Names.csv\n"
          ],
          "name": "stdout"
        }
      ]
    },
    {
      "cell_type": "code",
      "metadata": {
        "id": "WkMk59eSg2Zm",
        "colab_type": "code",
        "colab": {
          "base_uri": "https://localhost:8080/",
          "height": 34
        },
        "outputId": "5357c209-83e4-417e-91de-93c0c796ac2b"
      },
      "source": [
        "!ls"
      ],
      "execution_count": 25,
      "outputs": [
        {
          "output_type": "stream",
          "text": [
            "city_names.txt\tsample_data  Street_Names.csv\n"
          ],
          "name": "stdout"
        }
      ]
    },
    {
      "cell_type": "markdown",
      "metadata": {
        "id": "u2NXbgmO1mjW",
        "colab_type": "text"
      },
      "source": [
        "**Parse the city names from the file**"
      ]
    },
    {
      "cell_type": "code",
      "metadata": {
        "id": "weTaJsNakzMv",
        "colab_type": "code",
        "colab": {}
      },
      "source": [
        "city_names=[]       # List of city names\n",
        "with open('city_names.txt') as f:\n",
        "  for line in f.readlines():\n",
        "    #line = line.replace('\\n',',')\n",
        "    city_names.append(line)\n",
        "city_names=city_names[2:]       #First two elements are discarded as the link and a new line character came along in txt file parsing"
      ],
      "execution_count": 0,
      "outputs": []
    },
    {
      "cell_type": "markdown",
      "metadata": {
        "id": "Os1KZrza1uUI",
        "colab_type": "text"
      },
      "source": [
        "*The following stores the corresponding latitudes and longitudes for the city names as there will be in the SQL database*"
      ]
    },
    {
      "cell_type": "code",
      "metadata": {
        "id": "H9CkXVyhd-9Q",
        "colab_type": "code",
        "colab": {}
      },
      "source": [
        "from geopy.geocoders import Nominatim\n",
        "geolocator = Nominatim(user_agent=\"Radius\")\n",
        "latitude=[]\n",
        "longitude=[]\n",
        "for i in city_names:\n",
        "  location = geolocator.geocode(i)\n",
        "  latitude.append(location.latitude)\n",
        "  longitude.append(location.longitude)"
      ],
      "execution_count": 0,
      "outputs": []
    },
    {
      "cell_type": "markdown",
      "metadata": {
        "id": "zwOqdNBy2DsS",
        "colab_type": "text"
      },
      "source": [
        "Now, the prices, Number of bedrooms, bathrooms and ID are randomly generated from a uniform statistical distribution with specified range. "
      ]
    },
    {
      "cell_type": "code",
      "metadata": {
        "id": "CBom3ZmuoZUV",
        "colab_type": "code",
        "colab": {
          "base_uri": "https://localhost:8080/",
          "height": 34
        },
        "outputId": "07c078ed-5021-423d-9b81-305590996189"
      },
      "source": [
        "import random\n",
        "id_=[]\n",
        "price=[]\n",
        "bedrooms=[]\n",
        "bathrooms=[]\n",
        "for i in range(0,len(city_names)):\n",
        "  id_.append(random.randrange(100, 1000, 2))      # Generate random ID numbers from 100 to 1000 with steps of 2/even\n",
        "  bedrooms.append(random.randrange(1, 7, 1))      # Generate random # of bedrooms from range of 1 to 7 with even steps of 1.\n",
        "  bathrooms.append(random.randrange(1, 7, 1))     # Generate random # of bathrooms from range of 1 to 7 with even steps of 1.\n",
        "  price.append(random.uniform(100000, 1000000))   # Generate random prices from range of 100000 to 1000000 (float)\n",
        "print(len(id_),len(city_names),len(price),len(bathrooms),len(bedrooms),bathrooms[0:5],bedrooms[0:5])"
      ],
      "execution_count": 41,
      "outputs": [
        {
          "output_type": "stream",
          "text": [
            "385 385 385 385 385 [5, 5, 6, 1, 6] [1, 6, 2, 4, 6]\n"
          ],
          "name": "stdout"
        }
      ]
    },
    {
      "cell_type": "code",
      "metadata": {
        "id": "GTUKggzvlUbv",
        "colab_type": "code",
        "colab": {
          "base_uri": "https://localhost:8080/",
          "height": 215
        },
        "outputId": "3ae13e06-97f3-4a3a-fd93-b8aca23795cd"
      },
      "source": [
        "import modin.pandas as pd     #The faster pandas\n",
        "df=pd.DataFrame({'ID':id_,'latitude':latitude,'longitude':longitude,'price':price,'bathrooms':bathrooms,'bedrooms':bedrooms})  #create table/dataframe\n",
        "df.head()"
      ],
      "execution_count": 47,
      "outputs": [
        {
          "output_type": "stream",
          "text": [
            "UserWarning: Distributing <class 'dict'> object. This may take some time.\n"
          ],
          "name": "stderr"
        },
        {
          "output_type": "execute_result",
          "data": {
            "text/html": [
              "<div>\n",
              "<style scoped>\n",
              "    .dataframe tbody tr th:only-of-type {\n",
              "        vertical-align: middle;\n",
              "    }\n",
              "\n",
              "    .dataframe tbody tr th {\n",
              "        vertical-align: top;\n",
              "    }\n",
              "\n",
              "    .dataframe thead th {\n",
              "        text-align: right;\n",
              "    }\n",
              "</style>\n",
              "<table border=\"1\" class=\"dataframe\">\n",
              "  <thead>\n",
              "    <tr style=\"text-align: right;\">\n",
              "      <th></th>\n",
              "      <th>ID</th>\n",
              "      <th>latitude</th>\n",
              "      <th>longitude</th>\n",
              "      <th>price</th>\n",
              "      <th>bathrooms</th>\n",
              "      <th>bedrooms</th>\n",
              "    </tr>\n",
              "  </thead>\n",
              "  <tbody>\n",
              "    <tr>\n",
              "      <th>0</th>\n",
              "      <td>958</td>\n",
              "      <td>57.148243</td>\n",
              "      <td>-2.092809</td>\n",
              "      <td>168617.208681</td>\n",
              "      <td>5</td>\n",
              "      <td>1</td>\n",
              "    </tr>\n",
              "    <tr>\n",
              "      <th>1</th>\n",
              "      <td>736</td>\n",
              "      <td>32.446450</td>\n",
              "      <td>-99.747591</td>\n",
              "      <td>157204.642849</td>\n",
              "      <td>5</td>\n",
              "      <td>6</td>\n",
              "    </tr>\n",
              "    <tr>\n",
              "      <th>2</th>\n",
              "      <td>326</td>\n",
              "      <td>41.083064</td>\n",
              "      <td>-81.518485</td>\n",
              "      <td>313887.342156</td>\n",
              "      <td>6</td>\n",
              "      <td>2</td>\n",
              "    </tr>\n",
              "    <tr>\n",
              "      <th>3</th>\n",
              "      <td>350</td>\n",
              "      <td>42.651167</td>\n",
              "      <td>-73.754968</td>\n",
              "      <td>825370.667999</td>\n",
              "      <td>1</td>\n",
              "      <td>4</td>\n",
              "    </tr>\n",
              "    <tr>\n",
              "      <th>4</th>\n",
              "      <td>844</td>\n",
              "      <td>35.084103</td>\n",
              "      <td>-106.650985</td>\n",
              "      <td>734646.686748</td>\n",
              "      <td>6</td>\n",
              "      <td>6</td>\n",
              "    </tr>\n",
              "  </tbody>\n",
              "</table>\n",
              "</div>"
            ],
            "text/plain": [
              "    ID   latitude   longitude          price  bathrooms  bedrooms\n",
              "0  958  57.148243   -2.092809  168617.208681          5         1\n",
              "1  736  32.446450  -99.747591  157204.642849          5         6\n",
              "2  326  41.083064  -81.518485  313887.342156          6         2\n",
              "3  350  42.651167  -73.754968  825370.667999          1         4\n",
              "4  844  35.084103 -106.650985  734646.686748          6         6"
            ]
          },
          "metadata": {
            "tags": []
          },
          "execution_count": 47
        }
      ]
    },
    {
      "cell_type": "markdown",
      "metadata": {
        "id": "H9hovxPNWFxB",
        "colab_type": "text"
      },
      "source": [
        "_______________________________________________________________________________________________________________________________________________________________________________________________________________________________________________\n",
        "**End of dataset creation**\n",
        "________________________________________________________________________________\n"
      ]
    },
    {
      "cell_type": "markdown",
      "metadata": {
        "id": "ZdMSYvep_BPE",
        "colab_type": "text"
      },
      "source": [
        "**Inputs**: (city name, budget (min, max), # bedrooms (min, max) , # bathrooms (min, max)\n",
        "For either one input cases (budget, # bedrooms, # bathrooms), one input is taken say min, then max is upper limit of integer and if max is given as input then lower limit of integer is taken as minimum. \n",
        "<br>\n",
        "**Assumption made here**: The either inpput which has not been provided is considered maximum and minimum system integer values to it's respective max and min\n",
        "\n",
        "Exeption handling is done for the purpose of atlease one input and coorect input"
      ]
    },
    {
      "cell_type": "code",
      "metadata": {
        "id": "WVSL2Ooj_AwI",
        "colab_type": "code",
        "colab": {
          "base_uri": "https://localhost:8080/",
          "height": 158
        },
        "outputId": "3a6142ea-a214-4ca6-bfaf-2ffe1c116d4e"
      },
      "source": [
        "def input_parameters():\n",
        "  import sys\n",
        "  city=input(\"Please enter input city: \")\n",
        "  flag_budget=0       # Here flags are used to keep track in the either input case which one has been provided.\n",
        "  flag_bedroom=0\n",
        "  flag_bathroom=0\n",
        "  try:\n",
        "    min_budget=abs(float(input(\"Enter min budget: \")))\n",
        "    flag_budget+=1\n",
        "  except ValueError:\n",
        "    min_budget=-sys.maxsize\n",
        "  try:\n",
        "    max_budget=abs(float(input(\"Enter max budget: \")))\n",
        "  except ValueError:\n",
        "    if(flag_budget==1): max_budget=sys.maxsize\n",
        "    else: \n",
        "      print(\"Give at least min or max budget\")\n",
        "      return\n",
        "  try:\n",
        "    min_bedroom=abs(float(input(\"Enter min number of bedroom: \")))\n",
        "    flag_bedroom+=1\n",
        "  except ValueError:\n",
        "    min_bedroom=-sys.maxsize\n",
        "  try:\n",
        "    max_bedroom=abs(float(input(\"Enter maximum number of bedroom: \")))\n",
        "  except ValueError:\n",
        "    if(flag_bedroom==1): max_bedroom=sys.maxsize\n",
        "    else:\n",
        "      print(\"Give at least min or max bedroom\")\n",
        "      return\n",
        "  try:\n",
        "    min_bathroom=abs(float(input(\"Enter minimum number of bathroom: \")))\n",
        "    flag_bathroom+=1\n",
        "  except ValueError:\n",
        "    min_bathroom=-sys.maxsize\n",
        "  try:\n",
        "    max_bathroom=abs(float(input(\"Enter maximum number of bathroom: \")))\n",
        "  except ValueError:\n",
        "    if(flag_bathroom==1): max_bathroom=sys.maxsize\n",
        "    else:\n",
        "      print(\"Give at least min or max bathroom\")\n",
        "      return\n",
        "  return city,min_budget,max_budget,min_bathroom,max_bathroom,min_bedroom,max_bedroom\n",
        "\n",
        "try:\n",
        "  city,min_price,max_price,min_bathroom,max_bathroom,min_bedroom,max_bedroom=input_parameters()\n",
        "  print(city,min_price,max_price,min_bathroom,max_bathroom,min_bedroom,max_bedroom)\n",
        "except TypeError:\n",
        "  print(\"Please enter details correctly by running this cell again\")\n"
      ],
      "execution_count": 48,
      "outputs": [
        {
          "output_type": "stream",
          "text": [
            "Please enter input city: 5TH AVE NY\n",
            "Enter min budget: 30000\n",
            "Enter max budget: 500000\n",
            "Enter min number of bedroom: 1\n",
            "Enter maximum number of bedroom: 4\n",
            "Enter minimum number of bathroom: 1\n",
            "Enter maximum number of bathroom: 7\n",
            "5TH AVE NY 30000.0 500000.0 1.0 7.0 1.0 4.0\n"
          ],
          "name": "stdout"
        }
      ]
    },
    {
      "cell_type": "markdown",
      "metadata": {
        "id": "0EGN7qigXcsW",
        "colab_type": "text"
      },
      "source": [
        "*The following haversine function (Great circle) is used to calculate distance on the basis of latititude and longitude formula*. Reference for this Wikipedia: https://en.wikipedia.org/wiki/Haversine_formula "
      ]
    },
    {
      "cell_type": "code",
      "metadata": {
        "id": "uODT5bgiC00f",
        "colab_type": "code",
        "colab": {}
      },
      "source": [
        "### Function returns distance in miles ###\n",
        "import numpy as np\n",
        "def haversine(lat1, lon1, lat2, lon2):\n",
        "    MILES = 3959        #Radius of earth in miles\n",
        "    lat1, lon1, lat2, lon2 = map(np.deg2rad, [lat1, lon1, lat2, lon2])\n",
        "    dlat = lat2 - lat1 \n",
        "    dlon = lon2 - lon1 \n",
        "    a = np.sin(dlat/2)**2 + np.cos(lat1) * np.cos(lat2) * np.sin(dlon/2)**2\n",
        "    c = 2 * np.arcsin(np.sqrt(a)) \n",
        "    total_miles = MILES * c\n",
        "    return total_miles"
      ],
      "execution_count": 0,
      "outputs": []
    },
    {
      "cell_type": "markdown",
      "metadata": {
        "id": "HJf6yDk8YwW0",
        "colab_type": "text"
      },
      "source": [
        "The following distance calculation is done as per numpy array vectorization of the entire column dataframe. Hence it is faster as comapred to each row cross differences. Iterative process is slower than vectorized one.\n",
        "\n",
        "An extra column of distance is created so that large distances like beyond 10 miles can be rejected. In pandas the comparison of dataframe column is faster as modin can parallelize computation comparison, I had SQL or dataframe join in mind, but I believe the operation would be the operation expensive if we have more than 2-3 Million rows."
      ]
    },
    {
      "cell_type": "code",
      "metadata": {
        "id": "HiZWTsItDAhh",
        "colab_type": "code",
        "colab": {
          "base_uri": "https://localhost:8080/",
          "height": 105
        },
        "outputId": "296de78d-090b-4816-ae9a-1d6d3e81a28c"
      },
      "source": [
        "%%timeit\n",
        "import time\n",
        "start=time.time()\n",
        "from geopy.distance import geodesic\n",
        "location=geolocator.geocode(city)\n",
        "df['distance'] = haversine(location.latitude, location.longitude, df['latitude'].values, df['longitude'].values)      # df is the database table\n",
        "print(\"Program run time: \"+str(time.time()-start))"
      ],
      "execution_count": 50,
      "outputs": [
        {
          "output_type": "stream",
          "text": [
            "Program run time: 1.4293692111968994\n",
            "Program run time: 1.2828428745269775\n",
            "Program run time: 1.4420299530029297\n",
            "Program run time: 1.1335101127624512\n",
            "1 loop, best of 3: 1.13 s per loop\n"
          ],
          "name": "stdout"
        }
      ]
    },
    {
      "cell_type": "markdown",
      "metadata": {
        "id": "Aiom8TWia3BW",
        "colab_type": "text"
      },
      "source": [
        "Matched table is the table after filtering accoring to the criteria:\n",
        "<br>\n",
        "*For a property and requirement to be considered a valid match, distance should \n",
        "be within 10 miles, the budget is +/- 25%, bedroom and bathroom should be +/- 2*"
      ]
    },
    {
      "cell_type": "code",
      "metadata": {
        "id": "v26Ofbf80XMl",
        "colab_type": "code",
        "colab": {
          "base_uri": "https://localhost:8080/",
          "height": 34
        },
        "outputId": "cc7273ce-4b5b-42da-8c98-0502f51d3b26"
      },
      "source": [
        "matched_table=pd.DataFrame(\n",
        "matched_table=df[(df['distance']<=1000) & (df['price']>float(float(min_price)-float(min_price)*0.25)) & (df['price']>float(float(max_price)+float(max_price)*0.25)) & (df['bathrooms']>int(min_bathroom)-2) & (df['bathrooms']<int(max_bathroom)+2) & (df['bedrooms']>int(min_bedroom)-2) & (df['bedrooms']<int(max_bedroom)+2)]"
      ],
      "execution_count": 51,
      "outputs": [
        {
          "output_type": "stream",
          "text": [
            "UserWarning: Distributing <class 'NoneType'> object. This may take some time.\n"
          ],
          "name": "stderr"
        }
      ]
    },
    {
      "cell_type": "code",
      "metadata": {
        "id": "laFCovElVAxv",
        "colab_type": "code",
        "colab": {
          "base_uri": "https://localhost:8080/",
          "height": 347
        },
        "outputId": "94f5ed1a-ec67-41d7-bd89-098948052974"
      },
      "source": [
        "#10 rows of the filtered table\n",
        "matched_table.head(10)"
      ],
      "execution_count": 52,
      "outputs": [
        {
          "output_type": "execute_result",
          "data": {
            "text/html": [
              "<div>\n",
              "<style scoped>\n",
              "    .dataframe tbody tr th:only-of-type {\n",
              "        vertical-align: middle;\n",
              "    }\n",
              "\n",
              "    .dataframe tbody tr th {\n",
              "        vertical-align: top;\n",
              "    }\n",
              "\n",
              "    .dataframe thead th {\n",
              "        text-align: right;\n",
              "    }\n",
              "</style>\n",
              "<table border=\"1\" class=\"dataframe\">\n",
              "  <thead>\n",
              "    <tr style=\"text-align: right;\">\n",
              "      <th></th>\n",
              "      <th>ID</th>\n",
              "      <th>latitude</th>\n",
              "      <th>longitude</th>\n",
              "      <th>price</th>\n",
              "      <th>bathrooms</th>\n",
              "      <th>bedrooms</th>\n",
              "      <th>distance</th>\n",
              "    </tr>\n",
              "  </thead>\n",
              "  <tbody>\n",
              "    <tr>\n",
              "      <th>3</th>\n",
              "      <td>350</td>\n",
              "      <td>42.651167</td>\n",
              "      <td>-73.754968</td>\n",
              "      <td>825370.667999</td>\n",
              "      <td>1</td>\n",
              "      <td>4</td>\n",
              "      <td>127.199816</td>\n",
              "    </tr>\n",
              "    <tr>\n",
              "      <th>6</th>\n",
              "      <td>652</td>\n",
              "      <td>40.602206</td>\n",
              "      <td>-75.471279</td>\n",
              "      <td>689077.316586</td>\n",
              "      <td>6</td>\n",
              "      <td>5</td>\n",
              "      <td>81.762247</td>\n",
              "    </tr>\n",
              "    <tr>\n",
              "      <th>18</th>\n",
              "      <td>834</td>\n",
              "      <td>33.749099</td>\n",
              "      <td>-84.390185</td>\n",
              "      <td>841701.592868</td>\n",
              "      <td>5</td>\n",
              "      <td>5</td>\n",
              "      <td>753.168453</td>\n",
              "    </tr>\n",
              "    <tr>\n",
              "      <th>19</th>\n",
              "      <td>714</td>\n",
              "      <td>39.364285</td>\n",
              "      <td>-74.422935</td>\n",
              "      <td>830190.226499</td>\n",
              "      <td>3</td>\n",
              "      <td>1</td>\n",
              "      <td>103.511881</td>\n",
              "    </tr>\n",
              "    <tr>\n",
              "      <th>24</th>\n",
              "      <td>292</td>\n",
              "      <td>39.290882</td>\n",
              "      <td>-76.610759</td>\n",
              "      <td>627891.776035</td>\n",
              "      <td>4</td>\n",
              "      <td>5</td>\n",
              "      <td>176.369739</td>\n",
              "    </tr>\n",
              "    <tr>\n",
              "      <th>38</th>\n",
              "      <td>676</td>\n",
              "      <td>42.360253</td>\n",
              "      <td>-71.058291</td>\n",
              "      <td>917544.741925</td>\n",
              "      <td>6</td>\n",
              "      <td>4</td>\n",
              "      <td>183.044343</td>\n",
              "    </tr>\n",
              "    <tr>\n",
              "      <th>55</th>\n",
              "      <td>312</td>\n",
              "      <td>41.975887</td>\n",
              "      <td>-91.670405</td>\n",
              "      <td>728441.236768</td>\n",
              "      <td>2</td>\n",
              "      <td>3</td>\n",
              "      <td>921.097093</td>\n",
              "    </tr>\n",
              "    <tr>\n",
              "      <th>59</th>\n",
              "      <td>426</td>\n",
              "      <td>35.227087</td>\n",
              "      <td>-80.843127</td>\n",
              "      <td>895469.011870</td>\n",
              "      <td>1</td>\n",
              "      <td>2</td>\n",
              "      <td>538.594440</td>\n",
              "    </tr>\n",
              "    <tr>\n",
              "      <th>64</th>\n",
              "      <td>214</td>\n",
              "      <td>39.101454</td>\n",
              "      <td>-84.512460</td>\n",
              "      <td>905691.921026</td>\n",
              "      <td>2</td>\n",
              "      <td>5</td>\n",
              "      <td>572.179249</td>\n",
              "    </tr>\n",
              "    <tr>\n",
              "      <th>72</th>\n",
              "      <td>592</td>\n",
              "      <td>39.962260</td>\n",
              "      <td>-83.000707</td>\n",
              "      <td>833319.725389</td>\n",
              "      <td>2</td>\n",
              "      <td>4</td>\n",
              "      <td>480.486087</td>\n",
              "    </tr>\n",
              "  </tbody>\n",
              "</table>\n",
              "</div>"
            ],
            "text/plain": [
              "     ID   latitude  longitude          price  bathrooms  bedrooms    distance\n",
              "3   350  42.651167 -73.754968  825370.667999          1         4  127.199816\n",
              "6   652  40.602206 -75.471279  689077.316586          6         5   81.762247\n",
              "18  834  33.749099 -84.390185  841701.592868          5         5  753.168453\n",
              "19  714  39.364285 -74.422935  830190.226499          3         1  103.511881\n",
              "24  292  39.290882 -76.610759  627891.776035          4         5  176.369739\n",
              "38  676  42.360253 -71.058291  917544.741925          6         4  183.044343\n",
              "55  312  41.975887 -91.670405  728441.236768          2         3  921.097093\n",
              "59  426  35.227087 -80.843127  895469.011870          1         2  538.594440\n",
              "64  214  39.101454 -84.512460  905691.921026          2         5  572.179249\n",
              "72  592  39.962260 -83.000707  833319.725389          2         4  480.486087"
            ]
          },
          "metadata": {
            "tags": []
          },
          "execution_count": 52
        }
      ]
    },
    {
      "cell_type": "markdown",
      "metadata": {
        "id": "aKOgeNNDcRMb",
        "colab_type": "text"
      },
      "source": [
        "Here the scenario is like this:\n",
        "for only one case input of budget +-25% has been considered at the time of creation of matched table state, here say we take a case of minimum budget is given as input, then we have max budget as MAX INT, we just need to consider the -10 % for new matched table case as +10% is already considered. This is after comment Ref1.\n",
        "<br>\n",
        "<br>\n",
        "*If bedroom and bathroom fall between min and max, each will contribute full 20%. **If min or max is not given, match percentage varies according to the value**.* \n",
        "<br>\n",
        "The bold section of this point is not clear to me so I have not implemented this case in the following code cells.\n",
        "<br>\n",
        "In this matched table itself new columns of match percentage of corresponding attribute is created for theshold filtering in the following cells\n",
        "\n"
      ]
    },
    {
      "cell_type": "code",
      "metadata": {
        "id": "oVYWG-4hV8Kv",
        "colab_type": "code",
        "colab": {
          "base_uri": "https://localhost:8080/",
          "height": 34
        },
        "outputId": "08b6e91f-60c5-49c4-e871-7857c1a346d9"
      },
      "source": [
        "%%timeit\n",
        "matched_table['distance_match percentage']=(np.where((matched_table['distance']<=2)&(matched_table['distance']>=0) ,0,30))\n",
        "matched_table['price_match percentage']=(np.where((matched_table['price']>=float(min_price)) & (matched_table['price']<=float(max_price)),0,30))\n",
        "matched_table['bedroom_match percentage']=(np.where((matched_table['bedrooms']>=float(min_bedroom)) & (matched_table['bedrooms']<=float(max_bedroom)),0,20))\n",
        "matched_table['bathroom_match percentage']=(np.where((matched_table['bathrooms']>=float(min_bathroom)) & (matched_table['bathrooms']<=float(max_bathroom)),0,20))\n",
        "### Ref:1 For either min or max \n",
        "if(min_price==-sys.maxsize):\n",
        "  matched_table['price_match percentage']=(np.where(matched_table['price']<=float(max_price)+0.1*float(max_price)),0,30)\n",
        "if(max_price==sys.maxsize):\n",
        "  matched_table['price_match percentage']=(np.where(matched_table['price']>=float(min_price)-0.1*float(min_price)),0,30)\n",
        "#if(min_bathroom==-sys.maxsize):\n",
        "  #matched_table['bathroom_match percentage']=(np.where(matched_table['bathrooms']<=float(min_price)-0.1*float(min_price)),0,30) ##percentage vary according to value isn't clear"
      ],
      "execution_count": 58,
      "outputs": [
        {
          "output_type": "stream",
          "text": [
            "1 loop, best of 3: 492 ms per loop\n"
          ],
          "name": "stdout"
        }
      ]
    },
    {
      "cell_type": "markdown",
      "metadata": {
        "id": "iWFddKTBeXG7",
        "colab_type": "text"
      },
      "source": [
        "Overall percentage is the summation of all individual attribute contribution, and 40% overall percentage is considered as threshold.\n",
        "<br>\n",
        "*All matches above 40% can only be considered useful.*"
      ]
    },
    {
      "cell_type": "code",
      "metadata": {
        "id": "9cn84VDfBhic",
        "colab_type": "code",
        "colab": {
          "base_uri": "https://localhost:8080/",
          "height": 1000
        },
        "outputId": "1a90ce78-3180-4e01-fd21-6e6c9459354c"
      },
      "source": [
        "%%timeit\n",
        "matched_table['overall percentage']=matched_table['distance_match percentage']+ matched_table['price_match percentage']+matched_table['bedroom_match percentage']+matched_table['bathroom_match percentage']\n",
        "final_table=pd.DataFrame()\n",
        "final_table=matched_table[matched_table['overall percentage']>=40]\n",
        "final_table=final_table.sort_values(by ='overall percentage' , ascending=False)\n",
        "print(final_table[['ID','distance','overall percentage']].head(60))\n",
        "print(final_table.shape)"
      ],
      "execution_count": 59,
      "outputs": [
        {
          "output_type": "stream",
          "text": [
            "UserWarning: Distributing <class 'NoneType'> object. This may take some time.\n"
          ],
          "name": "stderr"
        },
        {
          "output_type": "stream",
          "text": [
            "      ID    distance  overall percentage\n",
            "302  400  876.166656                  80\n",
            "359  722  915.786158                  80\n",
            "105  534  164.453387                  80\n",
            "286  432  431.217116                  80\n",
            "231  144    7.980758                  80\n",
            "332  154  641.986901                  80\n",
            "275  836  902.313712                  80\n",
            "82   192  485.903717                  80\n",
            "73   158  206.079538                  80\n",
            "64   214  572.179249                  80\n",
            "6    652   81.762247                  80\n",
            "24   292  176.369739                  80\n",
            "215  420  881.802544                  80\n",
            "18   834  753.168453                  80\n",
            "114  504  255.096885                  80\n",
            "270  660  318.480260                  60\n",
            "296  404  248.754827                  60\n",
            "256  564  946.736538                  60\n",
            "233  750   13.546463                  60\n",
            "280  696   61.590124                  60\n",
            "295  990  404.620581                  60\n",
            "3    350  127.199816                  60\n",
            "297  210  789.286665                  60\n",
            "299  670  738.417711                  60\n",
            "324  112   98.783995                  60\n",
            "333  194  514.411809                  60\n",
            "366  700  294.988553                  60\n",
            "370  954  211.300895                  60\n",
            "372  706  954.945440                  60\n",
            "377  704  112.553663                  60\n",
            "380  760  148.911120                  60\n",
            "232  368    7.980758                  60\n",
            "196  126  807.906504                  60\n",
            "222  680  562.117018                  60\n",
            "92   962  427.810517                  60\n",
            "19   714  103.511881                  60\n",
            "38   676  183.044343                  60\n",
            "55   312  921.097093                  60\n",
            "59   426  538.594440                  60\n",
            "72   592  480.486087                  60\n",
            "81   944  865.657737                  60\n",
            "83   232  545.152324                  60\n",
            "84   576  895.753422                  60\n",
            "89   338  482.216866                  60\n",
            "98   848  330.989124                  60\n",
            "221  276  653.045470                  60\n",
            "112  800  584.559785                  60\n",
            "126  860  735.806156                  60\n",
            "127  888  758.309933                  60\n",
            "136  634   92.087801                  60\n",
            "137  362  143.539242                  60\n",
            "163  586  736.708321                  60\n",
            "165  404  610.546875                  60\n",
            "172  530  635.777181                  60\n",
            "201  288  757.135352                  60\n",
            "382  498    8.243104                  60\n",
            "(56, 12)\n"
          ],
          "name": "stdout"
        },
        {
          "output_type": "stream",
          "text": [
            "UserWarning: Distributing <class 'NoneType'> object. This may take some time.\n"
          ],
          "name": "stderr"
        },
        {
          "output_type": "stream",
          "text": [
            "      ID    distance  overall percentage\n",
            "302  400  876.166656                  80\n",
            "359  722  915.786158                  80\n",
            "105  534  164.453387                  80\n",
            "286  432  431.217116                  80\n",
            "231  144    7.980758                  80\n",
            "332  154  641.986901                  80\n",
            "275  836  902.313712                  80\n",
            "82   192  485.903717                  80\n",
            "73   158  206.079538                  80\n",
            "64   214  572.179249                  80\n",
            "6    652   81.762247                  80\n",
            "24   292  176.369739                  80\n",
            "215  420  881.802544                  80\n",
            "18   834  753.168453                  80\n",
            "114  504  255.096885                  80\n",
            "270  660  318.480260                  60\n",
            "296  404  248.754827                  60\n",
            "256  564  946.736538                  60\n",
            "233  750   13.546463                  60\n",
            "280  696   61.590124                  60\n",
            "295  990  404.620581                  60\n",
            "3    350  127.199816                  60\n",
            "297  210  789.286665                  60\n",
            "299  670  738.417711                  60\n",
            "324  112   98.783995                  60\n",
            "333  194  514.411809                  60\n",
            "366  700  294.988553                  60\n",
            "370  954  211.300895                  60\n",
            "372  706  954.945440                  60\n",
            "377  704  112.553663                  60\n",
            "380  760  148.911120                  60\n",
            "232  368    7.980758                  60\n",
            "196  126  807.906504                  60\n",
            "222  680  562.117018                  60\n",
            "92   962  427.810517                  60\n",
            "19   714  103.511881                  60\n",
            "38   676  183.044343                  60\n",
            "55   312  921.097093                  60\n",
            "59   426  538.594440                  60\n",
            "72   592  480.486087                  60\n",
            "81   944  865.657737                  60\n",
            "83   232  545.152324                  60\n",
            "84   576  895.753422                  60\n",
            "89   338  482.216866                  60\n",
            "98   848  330.989124                  60\n",
            "221  276  653.045470                  60\n",
            "112  800  584.559785                  60\n",
            "126  860  735.806156                  60\n",
            "127  888  758.309933                  60\n",
            "136  634   92.087801                  60\n",
            "137  362  143.539242                  60\n",
            "163  586  736.708321                  60\n",
            "165  404  610.546875                  60\n",
            "172  530  635.777181                  60\n",
            "201  288  757.135352                  60\n",
            "382  498    8.243104                  60\n",
            "(56, 12)\n"
          ],
          "name": "stdout"
        },
        {
          "output_type": "stream",
          "text": [
            "UserWarning: Distributing <class 'NoneType'> object. This may take some time.\n"
          ],
          "name": "stderr"
        },
        {
          "output_type": "stream",
          "text": [
            "      ID    distance  overall percentage\n",
            "302  400  876.166656                  80\n",
            "359  722  915.786158                  80\n",
            "105  534  164.453387                  80\n",
            "286  432  431.217116                  80\n",
            "231  144    7.980758                  80\n",
            "332  154  641.986901                  80\n",
            "275  836  902.313712                  80\n",
            "82   192  485.903717                  80\n",
            "73   158  206.079538                  80\n",
            "64   214  572.179249                  80\n",
            "6    652   81.762247                  80\n",
            "24   292  176.369739                  80\n",
            "215  420  881.802544                  80\n",
            "18   834  753.168453                  80\n",
            "114  504  255.096885                  80\n",
            "270  660  318.480260                  60\n",
            "296  404  248.754827                  60\n",
            "256  564  946.736538                  60\n",
            "233  750   13.546463                  60\n",
            "280  696   61.590124                  60\n",
            "295  990  404.620581                  60\n",
            "3    350  127.199816                  60\n",
            "297  210  789.286665                  60\n",
            "299  670  738.417711                  60\n",
            "324  112   98.783995                  60\n",
            "333  194  514.411809                  60\n",
            "366  700  294.988553                  60\n",
            "370  954  211.300895                  60\n",
            "372  706  954.945440                  60\n",
            "377  704  112.553663                  60\n",
            "380  760  148.911120                  60\n",
            "232  368    7.980758                  60\n",
            "196  126  807.906504                  60\n",
            "222  680  562.117018                  60\n",
            "92   962  427.810517                  60\n",
            "19   714  103.511881                  60\n",
            "38   676  183.044343                  60\n",
            "55   312  921.097093                  60\n",
            "59   426  538.594440                  60\n",
            "72   592  480.486087                  60\n",
            "81   944  865.657737                  60\n",
            "83   232  545.152324                  60\n",
            "84   576  895.753422                  60\n",
            "89   338  482.216866                  60\n",
            "98   848  330.989124                  60\n",
            "221  276  653.045470                  60\n",
            "112  800  584.559785                  60\n",
            "126  860  735.806156                  60\n",
            "127  888  758.309933                  60\n",
            "136  634   92.087801                  60\n",
            "137  362  143.539242                  60\n",
            "163  586  736.708321                  60\n",
            "165  404  610.546875                  60\n",
            "172  530  635.777181                  60\n",
            "201  288  757.135352                  60\n",
            "382  498    8.243104                  60\n",
            "(56, 12)\n",
            "      ID    distance  overall percentage\n",
            "302  400  876.166656                  80\n",
            "359  722  915.786158                  80\n",
            "105  534  164.453387                  80\n",
            "286  432  431.217116                  80\n",
            "231  144    7.980758                  80\n",
            "332  154  641.986901                  80\n",
            "275  836  902.313712                  80\n",
            "82   192  485.903717                  80\n",
            "73   158  206.079538                  80\n",
            "64   214  572.179249                  80\n",
            "6    652   81.762247                  80\n",
            "24   292  176.369739                  80\n",
            "215  420  881.802544                  80\n",
            "18   834  753.168453                  80\n",
            "114  504  255.096885                  80\n",
            "270  660  318.480260                  60\n",
            "296  404  248.754827                  60\n",
            "256  564  946.736538                  60\n",
            "233  750   13.546463                  60\n",
            "280  696   61.590124                  60\n",
            "295  990  404.620581                  60\n",
            "3    350  127.199816                  60\n",
            "297  210  789.286665                  60\n",
            "299  670  738.417711                  60\n",
            "324  112   98.783995                  60\n",
            "333  194  514.411809                  60\n",
            "366  700  294.988553                  60\n",
            "370  954  211.300895                  60\n",
            "372  706  954.945440                  60\n",
            "377  704  112.553663                  60\n",
            "380  760  148.911120                  60\n",
            "232  368    7.980758                  60\n",
            "196  126  807.906504                  60\n",
            "222  680  562.117018                  60\n",
            "92   962  427.810517                  60\n",
            "19   714  103.511881                  60\n",
            "38   676  183.044343                  60\n",
            "55   312  921.097093                  60\n",
            "59   426  538.594440                  60\n",
            "72   592  480.486087                  60\n",
            "81   944  865.657737                  60\n",
            "83   232  545.152324                  60\n",
            "84   576  895.753422                  60\n",
            "89   338  482.216866                  60\n",
            "98   848  330.989124                  60\n",
            "221  276  653.045470                  60\n",
            "112  800  584.559785                  60\n",
            "126  860  735.806156                  60\n",
            "127  888  758.309933                  60\n",
            "136  634   92.087801                  60\n",
            "137  362  143.539242                  60\n",
            "163  586  736.708321                  60\n",
            "165  404  610.546875                  60\n",
            "172  530  635.777181                  60\n",
            "201  288  757.135352                  60\n",
            "382  498    8.243104                  60\n",
            "(56, 12)\n",
            "1 loop, best of 3: 404 ms per loop\n"
          ],
          "name": "stdout"
        },
        {
          "output_type": "stream",
          "text": [
            "UserWarning: Distributing <class 'NoneType'> object. This may take some time.\n"
          ],
          "name": "stderr"
        }
      ]
    },
    {
      "cell_type": "markdown",
      "metadata": {
        "id": "h5oj5p0De7Ev",
        "colab_type": "text"
      },
      "source": [
        "The above is the final search results table.\n",
        "PS: If the actual more frequent data is provided more better results as per the objective may be achieved. This data is small and widespread across country cities, If more gathered like for each state, each street, town names or it's latitude and longitude is provided then the objective results could be validated correctly.\n",
        "\n",
        "---\n",
        "<br>\n",
        "In a linux environment this could be benchmarked in terms of speed with larger dataset and flags.mark_flag_as_required could be added which would be required attributes.\n",
        "<br>\n",
        "________________________________________________________________________________________________________________________________________________________________\n",
        "\n"
      ]
    }
  ]
}